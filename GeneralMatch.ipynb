{
 "cells": [
  {
   "cell_type": "markdown",
   "metadata": {},
   "source": [
    "Purpose:  \n",
    "    Matches rows in table two to rows in table 1 based on specified columns  \n",
    "    \n",
    "Inputs:  \n",
    "    * table1 = the csv file name in string form (ex. 'table1.csv')\n",
    "    * table2 = the csv file name in string form (ex. 'table1.csv')\n",
    "    * i1 = column index in table one to match\n",
    "    * i2 = column index in table two to match\n",
    "    \n",
    "Output:  \n",
    "    A numpy array that can be saved to a csv file using np.savetxt"
   ]
  },
  {
   "cell_type": "code",
   "execution_count": 1,
   "metadata": {
    "collapsed": true
   },
   "outputs": [],
   "source": [
    "import numpy as np"
   ]
  },
  {
   "cell_type": "code",
   "execution_count": 84,
   "metadata": {
    "collapsed": false
   },
   "outputs": [],
   "source": [
    "def match(table1,table2,i1,i2):\n",
    "    t1 = np.loadtxt(table1,delimiter=',',unpack=True,dtype=float)\n",
    "    t2 = np.loadtxt(table2,delimiter=',',unpack=True,dtype=float)\n",
    "    c1 = t1.shape[0]\n",
    "    c2 = t2.shape[0]\n",
    "    r1 = t1.shape[1]\n",
    "    ct = c1 + c2\n",
    "    newT = np.empty((r1,ct))\n",
    "    finalT = np.empty((r1,ct-1))\n",
    "    newT[:,0:c1] = t1[0:c1,:].T\n",
    "    s1 = t1[i1]\n",
    "    s2 = t2[i2]\n",
    "    i = 0\n",
    "    for e in s1:\n",
    "        m = e-s2\n",
    "        ind = np.where(m==0)\n",
    "        try:\n",
    "            ind = ind[0][0]\n",
    "            newT[i,c1:ct] = t2[:,ind].T\n",
    "        except IndexError:\n",
    "            newT[i,c1:ct] = np.empty(ct-c1)\n",
    "        i = i+1\n",
    "    finalT[:,0:c1+i2] = newT[:,0:c1+i2]\n",
    "    finalT[:,c1+i2:ct] = newT[:,c1+i2+1:ct]\n",
    "    return finalT"
   ]
  }
 ],
 "metadata": {
  "kernelspec": {
   "display_name": "Python 2",
   "language": "python",
   "name": "python2"
  },
  "language_info": {
   "codemirror_mode": {
    "name": "ipython",
    "version": 2
   },
   "file_extension": ".py",
   "mimetype": "text/x-python",
   "name": "python",
   "nbconvert_exporter": "python",
   "pygments_lexer": "ipython2",
   "version": "2.7.11"
  }
 },
 "nbformat": 4,
 "nbformat_minor": 0
}
